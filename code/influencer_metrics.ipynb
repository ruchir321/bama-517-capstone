{
 "cells": [
  {
   "cell_type": "markdown",
   "metadata": {},
   "source": [
    "# Influencer RFM Analysis"
   ]
  },
  {
   "cell_type": "markdown",
   "metadata": {},
   "source": [
    "## Introduciton\n",
    "In this notebook, we will be analyzing the RFM (Recency, Frequency, Monetary) of influencers. We will be using the RFM to segment influencers into different groups and analyze the characteristics of each group."
   ]
  },
  {
   "cell_type": "markdown",
   "metadata": {},
   "source": [
    "### 1. Import Libraries"
   ]
  },
  {
   "cell_type": "code",
   "execution_count": 98,
   "id": "ba407b91",
   "metadata": {},
   "outputs": [],
   "source": [
    "import pandas as pd\n",
    "import numpy as np\n",
    "import matplotlib.pyplot as plt\n",
    "import seaborn as sns\n",
    "from sklearn.cluster import KMeans\n",
    "import warnings\n",
    "warnings.filterwarnings(\"ignore\")"
   ]
  },
  {
   "cell_type": "markdown",
   "metadata": {},
   "source": [
    "### 2. Importing datasets\n",
    "NOTE: Only content, reaction type and reaction csv files are needed for this analysis. Rest of the files were used for preliminary findings."
   ]
  },
  {
   "cell_type": "code",
   "execution_count": 99,
   "id": "50dd3f2e",
   "metadata": {},
   "outputs": [],
   "source": [
    "# Import user.csv\n",
    "user = pd.read_csv('../Datasets/User.csv')\n",
    "user = user.iloc[:, 1:]\n",
    "\n",
    "# Import content.csv\n",
    "content = pd.read_csv('../Datasets/Content.csv')\n",
    "content = content.iloc[:, 1:]\n",
    "\n",
    "# Import reaction_types.csv\n",
    "reaction_types = pd.read_csv('../Datasets/ReactionTypes.csv')\n",
    "reaction_types = reaction_types.iloc[:, 1:]\n",
    "\n",
    "# Import reaction.csv\n",
    "reaction = pd.read_csv('../Datasets/Reactions.csv')\n",
    "reaction = reaction.iloc[:, 1:]\n",
    "\n",
    "# Import profile.csv\n",
    "profile = pd.read_csv('../Datasets/Profile.csv')\n",
    "profile = profile.iloc[:, 1:]\n",
    "\n",
    "# Import session.csv\n",
    "session = pd.read_csv('../Datasets/Session.csv')\n",
    "session = session.iloc[:, 1:]"
   ]
  },
  {
   "cell_type": "markdown",
   "metadata": {},
   "source": [
    "### 3. Data Cleaning\n",
    "1. Dropping NA values\n",
    "2. Renaming column names for easier understanding and merging\n",
    "3. Removing duplicates in category column. Eg: Studying and studying are the same category."
   ]
  },
  {
   "cell_type": "code",
   "execution_count": 100,
   "metadata": {},
   "outputs": [],
   "source": [
    "reaction.rename(columns={'Type': 'Reaction Type'}, inplace=True)\n",
    "reaction = reaction.dropna()"
   ]
  },
  {
   "cell_type": "code",
   "execution_count": 101,
   "metadata": {},
   "outputs": [],
   "source": [
    "content.rename(columns={'Type': 'Content Type'}, inplace=True)\n",
    "content = content.dropna()\n",
    "content = content.drop('URL', axis=1)\n",
    "content['Category'] = content['Category'].str.lower()"
   ]
  },
  {
   "cell_type": "code",
   "execution_count": 102,
   "metadata": {},
   "outputs": [],
   "source": [
    "reaction_types.rename(columns={'Type': 'Reaction Type'}, inplace=True)"
   ]
  },
  {
   "cell_type": "markdown",
   "metadata": {},
   "source": [
    "### 4. Data Modeling\n",
    "Our analysis requires more information about the content produced by the influencers. Hence, we combine the reactions, reaction type and content dataframes."
   ]
  },
  {
   "cell_type": "markdown",
   "metadata": {},
   "source": [
    "#### Merging reaction and reaction types\n",
    "It will give us the respective sentiment and score of each reaction "
   ]
  },
  {
   "cell_type": "code",
   "execution_count": 103,
   "metadata": {},
   "outputs": [],
   "source": [
    "df_reactions = reaction.merge(reaction_types,how='left',on='Reaction Type')"
   ]
  },
  {
   "cell_type": "markdown",
   "metadata": {},
   "source": [
    "#### Merge reactions with content table\n",
    "This will consolidate all the reactions for each content in one dataframe."
   ]
  },
  {
   "cell_type": "code",
   "execution_count": 104,
   "metadata": {},
   "outputs": [],
   "source": [
    "df_complete = df_reactions.merge(content[['Content ID','User ID', 'Content Type', 'Category']], how='right', on='Content ID')\n",
    "\n",
    "df_complete.rename(columns={'User ID_x': 'Viewer User ID','User ID_y': 'Influencer User ID'}, inplace=True)\n",
    "df_complete.rename(columns={'Datetime': 'Date'}, inplace=True)\n",
    "df_complete = df_complete.reindex(columns=['Viewer User ID', 'Reaction Type', 'Sentiment', 'Score', 'Date','Content ID', 'Influencer User ID', 'Content Type', 'Category'])\n",
    "\n",
    "# To make recency calculations feasible \n",
    "df_complete['Date'] = pd.to_datetime(df_complete['Date']).dt.date.astype('datetime64[ns]')"
   ]
  },
  {
   "cell_type": "markdown",
   "metadata": {},
   "source": [
    "### 5. RFM Analysis"
   ]
  },
  {
   "cell_type": "code",
   "execution_count": 105,
   "metadata": {},
   "outputs": [],
   "source": [
    "# Calculate recency: How recently did the influencer post\n",
    "max_date = pd.to_datetime(df_complete['Date']).max()\n",
    "df_complete['Recency'] = max_date - df_complete.groupby('Influencer User ID')['Date'].transform('max')\n",
    "\n",
    "# Calculate frequency: how much content does the influencer produce\n",
    "df_complete['Frequency'] = df_complete.groupby('Influencer User ID')['Content ID'].transform('count')\n",
    "\n",
    "# Calculate monetary value: How much is the sentiment score of the influencer.\n",
    "df_complete['Monetary'] = df_complete.groupby('Influencer User ID')['Score'].transform('sum')\n",
    "\n",
    "# Calculate quartiles and assign scores inversely for recency (most recent gets highest score)\n",
    "df_complete['R_score'] = pd.qcut(df_complete['Recency'], q=4, labels=False, duplicates='drop')\n",
    "\n",
    "# Adjust the scores to have the highest score as the most recent dates\n",
    "max_score = df_complete['R_score'].max()\n",
    "df_complete['R_score'] = max_score - df_complete['R_score']  # Invert the scores\n",
    "\n",
    "# Assign Frequency and Monetary scores\n",
    "df_complete['F_score'] = pd.qcut(df_complete['Frequency'], q=4, labels=False)\n",
    "df_complete['M_score'] = pd.qcut(df_complete['Monetary'], q=4, labels=False)\n",
    "\n",
    "# Analyze RFM scores\n",
    "rfm_analysis = df_complete.groupby(['R_score', 'F_score', 'M_score']).agg({'Influencer User ID': 'nunique'}).reset_index()\n",
    "rfm_analysis = rfm_analysis.rename(columns={'Influencer User ID': 'Count'})"
   ]
  },
  {
   "cell_type": "markdown",
   "metadata": {},
   "source": [
    "### 6. Ranking Influencers by RFM Score"
   ]
  },
  {
   "cell_type": "code",
   "execution_count": 106,
   "metadata": {},
   "outputs": [],
   "source": [
    "new_df = df_complete.groupby(['Influencer User ID', 'Recency', 'Frequency', 'Monetary', 'R_score', 'F_score', 'M_score']).agg({'Influencer User ID': 'count'}).rename(columns={'Influencer User ID': 'Count'}).reset_index()\n",
    "new_df = new_df.sort_values(by=['R_score', 'F_score', 'M_score'], ascending=False)\n",
    "new_df.rename(columns={'Influencer User ID': 'User ID'}, inplace=True)\n",
    "new_df.drop('Count', axis=1, inplace=True)"
   ]
  },
  {
   "cell_type": "markdown",
   "metadata": {},
   "source": [
    "#### Get names of influencers"
   ]
  },
  {
   "cell_type": "code",
   "execution_count": 107,
   "metadata": {},
   "outputs": [],
   "source": [
    "influencer_df = new_df.merge(user, how='left', on='User ID')\n",
    "\n",
    "influencer_df.drop(\"Email\", axis=1, inplace=True)\n",
    "columns = influencer_df.columns.tolist()\n",
    "columns.remove(\"Name\")\n",
    "columns.insert(1, \"Name\")\n",
    "influencer_df = influencer_df[columns]"
   ]
  },
  {
   "cell_type": "markdown",
   "metadata": {},
   "source": [
    "#### Storing the top 10 influencers separately"
   ]
  },
  {
   "cell_type": "code",
   "execution_count": 108,
   "metadata": {},
   "outputs": [],
   "source": [
    "influencer_df_sorted = influencer_df.head(10).sort_values(by='Frequency', ascending=False)"
   ]
  },
  {
   "cell_type": "code",
   "execution_count": 109,
   "metadata": {},
   "outputs": [],
   "source": [
    "influencer_df.to_csv('../output/influencer_df.csv', index=False)"
   ]
  },
  {
   "cell_type": "markdown",
   "metadata": {},
   "source": [
    "### 7. Key insights\n",
    "The top 10 influencers by RFM scores can be a source of momentum for content generation.\n",
    "\n",
    "### 8. Strategic Recommendations \n",
    "Pertinent content categories production can be incentivized by:\n",
    "1. identifying the content categories produced by the top influencers. \n",
    "2. Prioritizing the content categories by opportunity gaps found in the other analysis."
   ]
  },
  {
   "cell_type": "markdown",
   "metadata": {},
   "source": [
    "### 8. Feedback\n",
    "From the discussions during the QnA session, we recognized that the RFM analysis provides us user personas and not only a strict ranking of influencers.\n",
    "\n",
    "Segmenting influencers by RFM scores can provide more actionable insights."
   ]
  }
 ],
 "metadata": {
  "kernelspec": {
   "display_name": "Python 3",
   "language": "python",
   "name": "python3"
  },
  "language_info": {
   "codemirror_mode": {
    "name": "ipython",
    "version": 3
   },
   "file_extension": ".py",
   "mimetype": "text/x-python",
   "name": "python",
   "nbconvert_exporter": "python",
   "pygments_lexer": "ipython3",
   "version": "3.9.18"
  }
 },
 "nbformat": 4,
 "nbformat_minor": 5
}
